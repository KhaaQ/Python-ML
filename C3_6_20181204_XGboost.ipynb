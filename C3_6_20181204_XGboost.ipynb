{
  "nbformat": 4,
  "nbformat_minor": 0,
  "metadata": {
    "colab": {
      "name": "C3-6_20181204_XGboost.ipynb",
      "provenance": [],
      "collapsed_sections": [],
      "include_colab_link": true
    },
    "kernelspec": {
      "name": "python3",
      "display_name": "Python 3"
    }
  },
  "cells": [
    {
      "cell_type": "markdown",
      "metadata": {
        "id": "view-in-github",
        "colab_type": "text"
      },
      "source": [
        "<a href=\"https://colab.research.google.com/github/KhaaQ/Python-ML/blob/master/C3_6_20181204_XGboost.ipynb\" target=\"_parent\"><img src=\"https://colab.research.google.com/assets/colab-badge.svg\" alt=\"Open In Colab\"/></a>"
      ]
    },
    {
      "cell_type": "code",
      "metadata": {
        "id": "BCULbwNTn1fR",
        "colab_type": "code",
        "colab": {}
      },
      "source": [
        "import numpy as np \n",
        "import pandas as pd \n",
        "import xgboost as xgb\n",
        "from xgboost import plot_importance\n",
        "from sklearn.model_selection import cross_val_score ,KFold\n",
        "from sklearn.model_selection import  train_test_split\n",
        "from sklearn.metrics import mean_absolute_error, mean_squared_error, r2_score\n",
        "import matplotlib.pyplot as plt\n",
        "from sklearn.model_selection import GridSearchCV   #Performing grid search"
      ],
      "execution_count": 0,
      "outputs": []
    },
    {
      "cell_type": "code",
      "metadata": {
        "id": "jM7SqVuRp6AP",
        "colab_type": "code",
        "colab": {}
      },
      "source": [
        "from keras.datasets import boston_housing\n",
        "\n",
        "(train_data, train_targets), (test_data, test_targets) =  boston_housing.load_data()"
      ],
      "execution_count": 0,
      "outputs": []
    },
    {
      "cell_type": "code",
      "metadata": {
        "id": "oHZ0qCGnp6LD",
        "colab_type": "code",
        "colab": {}
      },
      "source": [
        "mean = train_data.mean(axis=0)\n",
        "train_data -= mean\n",
        "std = train_data.std(axis=0)\n",
        "train_data /= std\n",
        "\n",
        "test_data -= mean\n",
        "test_data /= std\n",
        "np.random.seed(10)"
      ],
      "execution_count": 0,
      "outputs": []
    },
    {
      "cell_type": "code",
      "metadata": {
        "id": "kLbm7wCgp6Qh",
        "colab_type": "code",
        "outputId": "0a749312-037d-4e92-c7f3-0d5a01e6d927",
        "colab": {
          "base_uri": "https://localhost:8080/",
          "height": 34
        }
      },
      "source": [
        "model = xgb.XGBRegressor(random_state=10, objective= 'reg:squarederror', n_estimators=1000, learning_rate=0.05, n_jobs=-1, gamma=0)\n",
        "# Calculating XGBoost train time\n",
        "import time \n",
        "tmp = time.time()\n",
        "model.fit(train_data, train_targets)\n",
        "print(\"XGB Training Time: %s seconds\" % (str(time.time() - tmp)))\n"
      ],
      "execution_count": 37,
      "outputs": [
        {
          "output_type": "stream",
          "text": [
            "XGB Training Time: 0.3357267379760742 seconds\n"
          ],
          "name": "stdout"
        }
      ]
    },
    {
      "cell_type": "code",
      "metadata": {
        "id": "6S0m5WVZhokW",
        "colab_type": "code",
        "colab": {
          "base_uri": "https://localhost:8080/",
          "height": 34
        },
        "outputId": "e9122baa-5ddb-4aa6-e358-2fc3e4960811"
      },
      "source": [
        "preds = model.predict(train_data)\n",
        "mse = mean_squared_error(train_targets, preds)\n",
        "mae = mean_absolute_error(train_targets, preds)\n",
        "print(\"Train MSE, Train MAE\", mse, mae)"
      ],
      "execution_count": 38,
      "outputs": [
        {
          "output_type": "stream",
          "text": [
            "Train MSE, Train MAE 0.16796641445520707 0.3169258072824761\n"
          ],
          "name": "stdout"
        }
      ]
    },
    {
      "cell_type": "code",
      "metadata": {
        "id": "6VPNIXU8p6Yr",
        "colab_type": "code",
        "outputId": "a78268cf-fde8-433b-ef90-c3bded8bf282",
        "colab": {
          "base_uri": "https://localhost:8080/",
          "height": 34
        }
      },
      "source": [
        "test_preds = model.predict(test_data)\n",
        "tmse = mean_squared_error(test_targets, test_preds)\n",
        "tmae = mean_absolute_error(test_targets, test_preds)\n",
        "print(\"Test MSE, Test MAE\", tmse, tmae)"
      ],
      "execution_count": 39,
      "outputs": [
        {
          "output_type": "stream",
          "text": [
            "Test MSE, Test MAE 13.036242972280371 2.2212854048785045\n"
          ],
          "name": "stdout"
        }
      ]
    },
    {
      "cell_type": "code",
      "metadata": {
        "id": "ygm49kMtp6hA",
        "colab_type": "code",
        "colab": {}
      },
      "source": [
        "test_r2= r2_score(test_targets, test_preds)"
      ],
      "execution_count": 0,
      "outputs": []
    },
    {
      "cell_type": "code",
      "metadata": {
        "id": "MVg37Xcsp6kk",
        "colab_type": "code",
        "outputId": "6b6567b3-893f-438d-b771-b3eee3fe3c72",
        "colab": {
          "base_uri": "https://localhost:8080/",
          "height": 34
        }
      },
      "source": [
        "test_r2"
      ],
      "execution_count": 41,
      "outputs": [
        {
          "output_type": "execute_result",
          "data": {
            "text/plain": [
              "0.8433969211649361"
            ]
          },
          "metadata": {
            "tags": []
          },
          "execution_count": 41
        }
      ]
    },
    {
      "cell_type": "code",
      "metadata": {
        "id": "Rnn-MdFDp6og",
        "colab_type": "code",
        "colab": {}
      },
      "source": [
        ""
      ],
      "execution_count": 0,
      "outputs": []
    }
  ]
}